{
 "cells": [
  {
   "cell_type": "code",
   "execution_count": 109,
   "metadata": {},
   "outputs": [],
   "source": [
    "import pandas as pd\n",
    "import numpy as np\n",
    "import os\n",
    "from sklearn.feature_extraction.text import TfidfVectorizer\n",
    "from sklearn.feature_extraction.text import HashingVectorizer\n",
    "from sklearn.feature_extraction.text import TfidfTransformer\n",
    "from xgboost import XGBClassifier\n",
    "from sklearn.metrics import accuracy_score, confusion_matrix\n",
    "from sklearn.ensemble import RandomForestClassifier\n",
    "from sklearn.naive_bayes import MultinomialNB\n",
    "from sklearn import linear_model\n",
    "import matplotlib.pyplot as plt"
   ]
  },
  {
   "cell_type": "code",
   "execution_count": 2,
   "metadata": {},
   "outputs": [
    {
     "data": {
      "text/html": [
       "<div>\n",
       "<style scoped>\n",
       "    .dataframe tbody tr th:only-of-type {\n",
       "        vertical-align: middle;\n",
       "    }\n",
       "\n",
       "    .dataframe tbody tr th {\n",
       "        vertical-align: top;\n",
       "    }\n",
       "\n",
       "    .dataframe thead th {\n",
       "        text-align: right;\n",
       "    }\n",
       "</style>\n",
       "<table border=\"1\" class=\"dataframe\">\n",
       "  <thead>\n",
       "    <tr style=\"text-align: right;\">\n",
       "      <th></th>\n",
       "      <th>snopes_page</th>\n",
       "      <th>topic</th>\n",
       "      <th>claim</th>\n",
       "      <th>claim_label</th>\n",
       "      <th>date_published</th>\n",
       "      <th>date_updated</th>\n",
       "      <th>page_url</th>\n",
       "      <th>page_is_example</th>\n",
       "      <th>page_is_image_credit</th>\n",
       "      <th>page_is_archived</th>\n",
       "      <th>page_is_first_citation</th>\n",
       "      <th>tags</th>\n",
       "    </tr>\n",
       "  </thead>\n",
       "  <tbody>\n",
       "    <tr>\n",
       "      <th>0</th>\n",
       "      <td>http://www.snopes.com/rowan-atkinson-death-hoax/</td>\n",
       "      <td>fake news</td>\n",
       "      <td>British actor Rowan Atkinson, best known as 'M...</td>\n",
       "      <td>False</td>\n",
       "      <td>Jul 15th, 2016</td>\n",
       "      <td>Mar 18th, 2017</td>\n",
       "      <td>https://www.shutterstock.com/image-photo/mosco...</td>\n",
       "      <td>False</td>\n",
       "      <td>True</td>\n",
       "      <td>False</td>\n",
       "      <td>False</td>\n",
       "      <td>NaN</td>\n",
       "    </tr>\n",
       "    <tr>\n",
       "      <th>1</th>\n",
       "      <td>http://www.snopes.com/european-parental-leave-...</td>\n",
       "      <td>politics</td>\n",
       "      <td>Canada, Norway, and Germany each offer federal...</td>\n",
       "      <td>True</td>\n",
       "      <td>Mar 16th, 2017</td>\n",
       "      <td>NaN</td>\n",
       "      <td>https://www.facebook.com/senatorsanders/photos...</td>\n",
       "      <td>False</td>\n",
       "      <td>False</td>\n",
       "      <td>False</td>\n",
       "      <td>True</td>\n",
       "      <td>canada,sen-kirsten-gillibrand,sen-bernie-sande...</td>\n",
       "    </tr>\n",
       "    <tr>\n",
       "      <th>2</th>\n",
       "      <td>http://www.snopes.com/are-blue-balls-a-real-th...</td>\n",
       "      <td>love</td>\n",
       "      <td>Prolonged sexual arousal in men without an eja...</td>\n",
       "      <td>True</td>\n",
       "      <td>Mar 15th, 2017</td>\n",
       "      <td>NaN</td>\n",
       "      <td>http://pediatrics.aappublications.org/content/...</td>\n",
       "      <td>False</td>\n",
       "      <td>False</td>\n",
       "      <td>False</td>\n",
       "      <td>True</td>\n",
       "      <td>NaN</td>\n",
       "    </tr>\n",
       "    <tr>\n",
       "      <th>3</th>\n",
       "      <td>http://www.snopes.com/politics/soapbox/knox.asp</td>\n",
       "      <td>political news</td>\n",
       "      <td>The president of Knox Machinery wrote a letter...</td>\n",
       "      <td>True</td>\n",
       "      <td>Dec 16th, 2008</td>\n",
       "      <td>Mar 14th, 2017</td>\n",
       "      <td>http://knoxmachinery.com</td>\n",
       "      <td>False</td>\n",
       "      <td>False</td>\n",
       "      <td>False</td>\n",
       "      <td>True</td>\n",
       "      <td>NaN</td>\n",
       "    </tr>\n",
       "    <tr>\n",
       "      <th>4</th>\n",
       "      <td>http://www.snopes.com/photographs-of-eiffel-to...</td>\n",
       "      <td>NaN</td>\n",
       "      <td>It is illegal to take photographs of the Eiffe...</td>\n",
       "      <td>True</td>\n",
       "      <td>Mar 13th, 2017</td>\n",
       "      <td>NaN</td>\n",
       "      <td>http://www.toureiffel.paris/</td>\n",
       "      <td>False</td>\n",
       "      <td>False</td>\n",
       "      <td>False</td>\n",
       "      <td>True</td>\n",
       "      <td>paris,photography,eiffel-tower,copyright</td>\n",
       "    </tr>\n",
       "  </tbody>\n",
       "</table>\n",
       "</div>"
      ],
      "text/plain": [
       "                                         snopes_page           topic  \\\n",
       "0   http://www.snopes.com/rowan-atkinson-death-hoax/       fake news   \n",
       "1  http://www.snopes.com/european-parental-leave-...        politics   \n",
       "2  http://www.snopes.com/are-blue-balls-a-real-th...            love   \n",
       "3    http://www.snopes.com/politics/soapbox/knox.asp  political news   \n",
       "4  http://www.snopes.com/photographs-of-eiffel-to...             NaN   \n",
       "\n",
       "                                               claim  claim_label  \\\n",
       "0  British actor Rowan Atkinson, best known as 'M...        False   \n",
       "1  Canada, Norway, and Germany each offer federal...         True   \n",
       "2  Prolonged sexual arousal in men without an eja...         True   \n",
       "3  The president of Knox Machinery wrote a letter...         True   \n",
       "4  It is illegal to take photographs of the Eiffe...         True   \n",
       "\n",
       "   date_published    date_updated  \\\n",
       "0  Jul 15th, 2016  Mar 18th, 2017   \n",
       "1  Mar 16th, 2017             NaN   \n",
       "2  Mar 15th, 2017             NaN   \n",
       "3  Dec 16th, 2008  Mar 14th, 2017   \n",
       "4  Mar 13th, 2017             NaN   \n",
       "\n",
       "                                            page_url  page_is_example  \\\n",
       "0  https://www.shutterstock.com/image-photo/mosco...            False   \n",
       "1  https://www.facebook.com/senatorsanders/photos...            False   \n",
       "2  http://pediatrics.aappublications.org/content/...            False   \n",
       "3                           http://knoxmachinery.com            False   \n",
       "4                       http://www.toureiffel.paris/            False   \n",
       "\n",
       "   page_is_image_credit  page_is_archived  page_is_first_citation  \\\n",
       "0                  True             False                   False   \n",
       "1                 False             False                    True   \n",
       "2                 False             False                    True   \n",
       "3                 False             False                    True   \n",
       "4                 False             False                    True   \n",
       "\n",
       "                                                tags  \n",
       "0                                                NaN  \n",
       "1  canada,sen-kirsten-gillibrand,sen-bernie-sande...  \n",
       "2                                                NaN  \n",
       "3                                                NaN  \n",
       "4           paris,photography,eiffel-tower,copyright  "
      ]
     },
     "execution_count": 2,
     "metadata": {},
     "output_type": "execute_result"
    }
   ],
   "source": [
    "info_df = pd.read_csv('snopes_ground_truth.csv')\n",
    "info_df.head()"
   ]
  },
  {
   "cell_type": "code",
   "execution_count": 3,
   "metadata": {},
   "outputs": [
    {
     "data": {
      "text/plain": [
       "topic                claim_label\n",
       "astronomy news       True            1\n",
       "business             False           5\n",
       "                     True           10\n",
       "cokelore             True            1\n",
       "college              False           1\n",
       "                     True            1\n",
       "computers            False           2\n",
       "                     True            1\n",
       "crime                False           4\n",
       "                     True            8\n",
       "critter country      False           2\n",
       "                     True            9\n",
       "disney               False           2\n",
       "                     True            1\n",
       "entertainment        False           7\n",
       "                     True            7\n",
       "fake news            False          81\n",
       "                     True            1\n",
       "fauxtography         False          51\n",
       "                     True           44\n",
       "food                 False           2\n",
       "                     True            4\n",
       "glurge gallery       True            3\n",
       "history              False           4\n",
       "                     True            5\n",
       "holidays             False           2\n",
       "                     True            2\n",
       "horrors              False           2\n",
       "                     True            5\n",
       "humor                False           3\n",
       "                     True            4\n",
       "hurricane katrina    True            1\n",
       "inboxer rebellion    False           5\n",
       "                     True            3\n",
       "language             True            3\n",
       "legal affairs        False           1\n",
       "                     True            1\n",
       "love                 True            1\n",
       "medical              False           5\n",
       "                     True            3\n",
       "military             False           1\n",
       "                     True            1\n",
       "political news       False          17\n",
       "                     True           28\n",
       "politics             False          42\n",
       "                     True           83\n",
       "questionable quotes  False           2\n",
       "                     True            5\n",
       "science              True            9\n",
       "september 11th       False           1\n",
       "                     True            5\n",
       "sports               False           1\n",
       "                     True            3\n",
       "technology           False           3\n",
       "                     True            1\n",
       "viral phenomena      False           3\n",
       "                     True            7\n",
       "Name: claim_label, dtype: int64"
      ]
     },
     "execution_count": 3,
     "metadata": {},
     "output_type": "execute_result"
    }
   ],
   "source": [
    "topic_fake_count = info_df.groupby(['topic', 'claim_label'])['claim_label'].count()\n",
    "topic_fake_count"
   ]
  },
  {
   "cell_type": "code",
   "execution_count": 41,
   "metadata": {},
   "outputs": [],
   "source": [
    "vectorizer = TfidfVectorizer(input='filename',max_df=0.7, max_features=100,\n",
    "                                 min_df=2, stop_words='english',encoding='utf-8',decode_error ='ignore',\n",
    "                                 use_idf=True)"
   ]
  },
  {
   "cell_type": "code",
   "execution_count": 86,
   "metadata": {},
   "outputs": [],
   "source": [
    "import os\n",
    "a = os.listdir('sentences_tokenized/')\n",
    "import re\n",
    "def sorted_aphanumeric(data):\n",
    "    convert = lambda text: int(text) if text.isdigit() else text.lower()\n",
    "    alphanum_key = lambda key: [ convert(c) for c in re.split('([0-9]+)', key) ] \n",
    "    return sorted(data, key=alphanum_key)\n",
    "\n",
    "a = sorted_aphanumeric(a)\n",
    "b =[]\n",
    "for i in a:\n",
    "    i = 'sentences_tokenized/'+i\n",
    "    b.append(str(i)) \n",
    "vect_matrix = vectorizer.fit_transform(b)"
   ]
  },
  {
   "cell_type": "code",
   "execution_count": 87,
   "metadata": {},
   "outputs": [
    {
     "data": {
      "text/plain": [
       "(562, 100)"
      ]
     },
     "execution_count": 87,
     "metadata": {},
     "output_type": "execute_result"
    }
   ],
   "source": [
    "vect_matrix.shape"
   ]
  },
  {
   "cell_type": "code",
   "execution_count": 88,
   "metadata": {},
   "outputs": [],
   "source": [
    "train_features, test_features = vect_matrix[:400,],vect_matrix[401:563,]\n",
    "train_labels, test_labels = info_df['claim_label'][:400] , info_df['claim_label'][401:563]"
   ]
  },
  {
   "cell_type": "code",
   "execution_count": 89,
   "metadata": {},
   "outputs": [],
   "source": [
    "logistic = linear_model.LogisticRegression()\n",
    "\n",
    "logr= logistic.fit(train_features,train_labels)"
   ]
  },
  {
   "cell_type": "code",
   "execution_count": 90,
   "metadata": {},
   "outputs": [
    {
     "data": {
      "text/plain": [
       "0.6956521739130435"
      ]
     },
     "execution_count": 90,
     "metadata": {},
     "output_type": "execute_result"
    }
   ],
   "source": [
    "logr.score(test_features,test_labels)"
   ]
  },
  {
   "cell_type": "code",
   "execution_count": 91,
   "metadata": {},
   "outputs": [
    {
     "data": {
      "text/plain": [
       "0.7142857142857143"
      ]
     },
     "execution_count": 91,
     "metadata": {},
     "output_type": "execute_result"
    }
   ],
   "source": [
    "mnb = MultinomialNB()\n",
    "mnb.fit(train_features,train_labels)\n",
    "mnb.score(test_features,test_labels)"
   ]
  },
  {
   "cell_type": "code",
   "execution_count": 92,
   "metadata": {},
   "outputs": [
    {
     "data": {
      "text/plain": [
       "0.6583850931677019"
      ]
     },
     "execution_count": 92,
     "metadata": {},
     "output_type": "execute_result"
    }
   ],
   "source": [
    "clf = RandomForestClassifier(max_depth=3, random_state=0)\n",
    "clf.fit(train_features,train_labels)\n",
    "clf.score(test_features,test_labels)"
   ]
  },
  {
   "cell_type": "code",
   "execution_count": 95,
   "metadata": {},
   "outputs": [
    {
     "name": "stdout",
     "output_type": "stream",
     "text": [
      "Accuracy: 60.87%\n"
     ]
    },
    {
     "name": "stderr",
     "output_type": "stream",
     "text": [
      "C:\\Users\\hnpathak\\AppData\\Local\\Continuum\\anaconda3\\lib\\site-packages\\sklearn\\preprocessing\\label.py:151: DeprecationWarning: The truth value of an empty array is ambiguous. Returning False, but in future this will result in an error. Use `array.size > 0` to check that an array is not empty.\n",
      "  if diff:\n"
     ]
    }
   ],
   "source": [
    "model = XGBClassifier()\n",
    "model.fit(train_features, train_labels)\n",
    "y_pred = model.predict(test_features)\n",
    "predictions = [round(value) for value in y_pred]\n",
    "accuracy = accuracy_score(test_labels, predictions)\n",
    "print(\"Accuracy: %.2f%%\" % (accuracy * 100.0))"
   ]
  },
  {
   "cell_type": "code",
   "execution_count": 112,
   "metadata": {
    "scrolled": true
   },
   "outputs": [
    {
     "name": "stdout",
     "output_type": "stream",
     "text": [
      "[[53 35]\n",
      " [11 62]]\n"
     ]
    },
    {
     "data": {
      "text/plain": [
       "<matplotlib.colorbar.Colorbar at 0xee10f28>"
      ]
     },
     "execution_count": 112,
     "metadata": {},
     "output_type": "execute_result"
    },
    {
     "data": {
      "image/png": "[encoded data removed]",
      "text/plain": [
       "<matplotlib.figure.Figure at 0xee10160>"
      ]
     },
     "metadata": {},
     "output_type": "display_data"
    }
   ],
   "source": [
    "pred = mnb.predict(test_features)\n",
    "labels = ['x', 'y']\n",
    "cm = confusion_matrix(test_labels, pred)\n",
    "print(cm)\n",
    "plt.matshow(cm)\n",
    "plt.colorbar()"
   ]
  }
 ],
 "metadata": {
  "kernelspec": {
   "display_name": "Python 3",
   "language": "python",
   "name": "python3"
  },
  "language_info": {
   "codemirror_mode": {
    "name": "ipython",
    "version": 3
   },
   "file_extension": ".py",
   "mimetype": "text/x-python",
   "name": "python",
   "nbconvert_exporter": "python",
   "pygments_lexer": "ipython3",
   "version": "3.6.4"
  }
 },
 "nbformat": 4,
 "nbformat_minor": 2
}
